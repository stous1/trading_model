{
 "cells": [
  {
   "cell_type": "code",
   "execution_count": 2,
   "metadata": {},
   "outputs": [
    {
     "name": "stdout",
     "output_type": "stream",
     "text": [
      ":: loading settings :: url = jar:file:/opt/spark/jars/ivy-2.5.0.jar!/org/apache/ivy/core/settings/ivysettings.xml\n"
     ]
    },
    {
     "name": "stderr",
     "output_type": "stream",
     "text": [
      "Ivy Default Cache set to: /root/.ivy2/cache\n",
      "The jars for the packages stored in: /root/.ivy2/jars\n",
      "org.apache.spark#spark-sql-kafka-0-10_2.13 added as a dependency\n",
      "org.apache.kudu#kudu-spark3_2.12 added as a dependency\n",
      ":: resolving dependencies :: org.apache.spark#spark-submit-parent-f8fc6b9d-7c0e-464c-b898-42ed6c09d12b;1.0\n",
      "\tconfs: [default]\n",
      "\tfound org.apache.spark#spark-sql-kafka-0-10_2.13;3.4.1 in central\n",
      "\tfound org.apache.spark#spark-token-provider-kafka-0-10_2.13;3.4.1 in central\n",
      "\tfound org.apache.kafka#kafka-clients;3.3.2 in central\n",
      "\tfound org.lz4#lz4-java;1.8.0 in central\n",
      "\tfound org.xerial.snappy#snappy-java;1.1.10.1 in central\n",
      "\tfound org.slf4j#slf4j-api;2.0.6 in central\n",
      "\tfound org.apache.hadoop#hadoop-client-runtime;3.3.4 in central\n",
      "\tfound org.apache.hadoop#hadoop-client-api;3.3.4 in central\n",
      "\tfound commons-logging#commons-logging;1.1.3 in central\n",
      "\tfound com.google.code.findbugs#jsr305;3.0.0 in central\n",
      "\tfound org.scala-lang.modules#scala-parallel-collections_2.13;1.0.4 in central\n",
      "\tfound org.apache.commons#commons-pool2;2.11.1 in central\n",
      "\tfound org.apache.kudu#kudu-spark3_2.12;1.17.0 in central\n",
      ":: resolution report :: resolve 932ms :: artifacts dl 47ms\n",
      "\t:: modules in use:\n",
      "\tcom.google.code.findbugs#jsr305;3.0.0 from central in [default]\n",
      "\tcommons-logging#commons-logging;1.1.3 from central in [default]\n",
      "\torg.apache.commons#commons-pool2;2.11.1 from central in [default]\n",
      "\torg.apache.hadoop#hadoop-client-api;3.3.4 from central in [default]\n",
      "\torg.apache.hadoop#hadoop-client-runtime;3.3.4 from central in [default]\n",
      "\torg.apache.kafka#kafka-clients;3.3.2 from central in [default]\n",
      "\torg.apache.kudu#kudu-spark3_2.12;1.17.0 from central in [default]\n",
      "\torg.apache.spark#spark-sql-kafka-0-10_2.13;3.4.1 from central in [default]\n",
      "\torg.apache.spark#spark-token-provider-kafka-0-10_2.13;3.4.1 from central in [default]\n",
      "\torg.lz4#lz4-java;1.8.0 from central in [default]\n",
      "\torg.scala-lang.modules#scala-parallel-collections_2.13;1.0.4 from central in [default]\n",
      "\torg.slf4j#slf4j-api;2.0.6 from central in [default]\n",
      "\torg.xerial.snappy#snappy-java;1.1.10.1 from central in [default]\n",
      "\t---------------------------------------------------------------------\n",
      "\t|                  |            modules            ||   artifacts   |\n",
      "\t|       conf       | number| search|dwnlded|evicted|| number|dwnlded|\n",
      "\t---------------------------------------------------------------------\n",
      "\t|      default     |   13  |   0   |   0   |   0   ||   13  |   0   |\n",
      "\t---------------------------------------------------------------------\n",
      ":: retrieving :: org.apache.spark#spark-submit-parent-f8fc6b9d-7c0e-464c-b898-42ed6c09d12b\n",
      "\tconfs: [default]\n",
      "\t0 artifacts copied, 13 already retrieved (0kB/17ms)\n",
      "2024-10-30 02:49:30,456 WARN util.NativeCodeLoader: Unable to load native-hadoop library for your platform... using builtin-java classes where applicable\n",
      "Setting default log level to \"WARN\".\n",
      "To adjust logging level use sc.setLogLevel(newLevel). For SparkR, use setLogLevel(newLevel).\n",
      "2024-10-30 02:49:32,409 WARN util.Utils: Service 'SparkUI' could not bind on port 4040. Attempting port 4041.\n"
     ]
    },
    {
     "name": "stdout",
     "output_type": "stream",
     "text": [
      "http://e5616452f8d5:4041\n"
     ]
    }
   ],
   "source": [
    "from pyspark.sql import SparkSession\n",
    "from pyspark.sql.functions import col, from_json\n",
    "from pyspark.sql.types import *\n",
    "\n",
    "spark_master = \"spark://e5616452f8d5:7077\"\n",
    "\n",
    "spark = SparkSession.builder \\\n",
    "        .appName(\"prueba_kafka\") \\\n",
    "        .master(spark_master) \\\n",
    "        .config('spark.executor.memory', '1g') \\\n",
    "        .config('spark.driver.memory', '1g') \\\n",
    "        .config(\"spark.executor.cores\", \"1\") \\\n",
    "        .config(\"spark.cores.max\", \"2\") \\\n",
    "        .config(\"spark.jars.packages\", \"org.apache.spark:spark-sql-kafka-0-10_2.13:3.4.1,org.apache.kudu:kudu-spark3_2.12:1.17.0\") \\\n",
    "        .getOrCreate()\n",
    "\n",
    "spark.sparkContext.setLogLevel(\"ERROR\")\n",
    "\n",
    "print(spark.sparkContext.uiWebUrl)"
   ]
  },
  {
   "cell_type": "code",
   "execution_count": 5,
   "metadata": {},
   "outputs": [
    {
     "name": "stderr",
     "output_type": "stream",
     "text": [
      "                                                                                \r"
     ]
    },
    {
     "name": "stdout",
     "output_type": "stream",
     "text": [
      "+--------+\n",
      "|cantidad|\n",
      "+--------+\n",
      "|406496  |\n",
      "+--------+\n",
      "\n",
      "+--------+\n",
      "|cantidad|\n",
      "+--------+\n",
      "|406785  |\n",
      "+--------+\n",
      "\n"
     ]
    },
    {
     "name": "stderr",
     "output_type": "stream",
     "text": [
      "                                                                                \r"
     ]
    },
    {
     "name": "stdout",
     "output_type": "stream",
     "text": [
      "+--------+\n",
      "|cantidad|\n",
      "+--------+\n",
      "|406905  |\n",
      "+--------+\n",
      "\n",
      "+--------+\n",
      "|cantidad|\n",
      "+--------+\n",
      "|407254  |\n",
      "+--------+\n",
      "\n",
      "+--------+\n",
      "|cantidad|\n",
      "+--------+\n",
      "|407262  |\n",
      "+--------+\n",
      "\n",
      "+--------+\n",
      "|cantidad|\n",
      "+--------+\n",
      "|407371  |\n",
      "+--------+\n",
      "\n"
     ]
    },
    {
     "name": "stderr",
     "output_type": "stream",
     "text": [
      "                                                                                \r"
     ]
    },
    {
     "name": "stdout",
     "output_type": "stream",
     "text": [
      "+--------+\n",
      "|cantidad|\n",
      "+--------+\n",
      "|407442  |\n",
      "+--------+\n",
      "\n",
      "+--------+\n",
      "|cantidad|\n",
      "+--------+\n",
      "|407454  |\n",
      "+--------+\n",
      "\n",
      "+--------+\n",
      "|cantidad|\n",
      "+--------+\n",
      "|407462  |\n",
      "+--------+\n",
      "\n",
      "+--------+\n",
      "|cantidad|\n",
      "+--------+\n",
      "|407472  |\n",
      "+--------+\n",
      "\n",
      "+--------+\n",
      "|cantidad|\n",
      "+--------+\n",
      "|407481  |\n",
      "+--------+\n",
      "\n",
      "+--------+\n",
      "|cantidad|\n",
      "+--------+\n",
      "|407487  |\n",
      "+--------+\n",
      "\n"
     ]
    },
    {
     "name": "stderr",
     "output_type": "stream",
     "text": [
      "                                                                                \r"
     ]
    },
    {
     "name": "stdout",
     "output_type": "stream",
     "text": [
      "+--------+\n",
      "|cantidad|\n",
      "+--------+\n",
      "|407518  |\n",
      "+--------+\n",
      "\n",
      "+--------+\n",
      "|cantidad|\n",
      "+--------+\n",
      "|407585  |\n",
      "+--------+\n",
      "\n",
      "+--------+\n",
      "|cantidad|\n",
      "+--------+\n",
      "|407630  |\n",
      "+--------+\n",
      "\n"
     ]
    },
    {
     "name": "stderr",
     "output_type": "stream",
     "text": [
      "                                                                                \r"
     ]
    },
    {
     "name": "stdout",
     "output_type": "stream",
     "text": [
      "+--------+\n",
      "|cantidad|\n",
      "+--------+\n",
      "|407643  |\n",
      "+--------+\n",
      "\n",
      "+--------+\n",
      "|cantidad|\n",
      "+--------+\n",
      "|407645  |\n",
      "+--------+\n",
      "\n",
      "+--------+\n",
      "|cantidad|\n",
      "+--------+\n",
      "|407700  |\n",
      "+--------+\n",
      "\n"
     ]
    },
    {
     "name": "stderr",
     "output_type": "stream",
     "text": [
      "                                                                                \r"
     ]
    },
    {
     "name": "stdout",
     "output_type": "stream",
     "text": [
      "+--------+\n",
      "|cantidad|\n",
      "+--------+\n",
      "|407705  |\n",
      "+--------+\n",
      "\n",
      "+--------+\n",
      "|cantidad|\n",
      "+--------+\n",
      "|407872  |\n",
      "+--------+\n",
      "\n",
      "+--------+\n",
      "|cantidad|\n",
      "+--------+\n",
      "|407880  |\n",
      "+--------+\n",
      "\n",
      "Proceso detenido manualmente.\n"
     ]
    }
   ],
   "source": [
    "import time\n",
    "\n",
    "# Leer las tablas Kudu en modo batch\n",
    "kudu_masters = \"kudu-master-1:7051,kudu-master-2:7151,kudu-master-3:7251\"\n",
    "\n",
    "# Registrar kudu_table_1 y kudu_table_2 como vistas temporales\n",
    "spark.read.format(\"kudu\") \\\n",
    "    .option(\"kudu.master\", kudu_masters) \\\n",
    "    .option(\"kudu.table\", \"impala::s_productos.k_trades\") \\\n",
    "    .load() \\\n",
    "    .createOrReplaceTempView(\"k_trades\")\n",
    "\n",
    "# spark.read.format(\"kudu\") \\\n",
    "#     .option(\"kudu.master\", kudu_masters) \\\n",
    "#     .option(\"kudu.table\", \"impala::s_productos.k_pairs_avg_prices\") \\\n",
    "#     .load() \\\n",
    "#     .createOrReplaceTempView(\"k_pairs_avg_prices\")\n",
    "\n",
    "# # Realizar la unión y cualquier transformación usando SQL\n",
    "# joined_df_sql = spark.sql(\"\"\"\n",
    "#     SELECT count(*) cantidad\n",
    "#     FROM k_trades;\n",
    "# \"\"\")\n",
    "\n",
    "# # Escritura del resultado en una tabla de Kudu\n",
    "# def write_to_kudu(batch_df, batch_id):\n",
    "#     print(f\"Batch ID: {batch_id}\")\n",
    "#     batch_df.show(truncate=False)\n",
    "\n",
    "# # Usar el DataFrame unido en SQL para la salida en streaming\n",
    "# query = joined_df_sql.writeStream \\\n",
    "#     .outputMode(\"append\") \\\n",
    "#     .foreachBatch(write_to_kudu) \\\n",
    "#     .start()\n",
    "\n",
    "# query.awaitTermination()\n",
    "\n",
    "# Loop para ejecutar el conteo en intervalos\n",
    "try:\n",
    "    while True:\n",
    "        # Realizar la consulta y mostrar el resultado\n",
    "        joined_df_sql = spark.sql(\"\"\"\n",
    "            SELECT count(*) cantidad\n",
    "            FROM k_trades;\n",
    "        \"\"\")\n",
    "        joined_df_sql.show(truncate=False)\n",
    "\n",
    "        # Pausa entre cada iteración (ajustar según sea necesario)\n",
    "        time.sleep(1)  # Espera 10 segundos antes de la siguiente iteración\n",
    "\n",
    "except KeyboardInterrupt:\n",
    "    print(\"Proceso detenido manualmente.\")\n",
    "\n",
    "finally:\n",
    "    spark.stop()\n"
   ]
  },
  {
   "cell_type": "code",
   "execution_count": null,
   "metadata": {},
   "outputs": [],
   "source": []
  },
  {
   "cell_type": "code",
   "execution_count": null,
   "metadata": {},
   "outputs": [],
   "source": []
  },
  {
   "cell_type": "code",
   "execution_count": null,
   "metadata": {},
   "outputs": [],
   "source": []
  },
  {
   "cell_type": "code",
   "execution_count": null,
   "metadata": {},
   "outputs": [],
   "source": []
  },
  {
   "cell_type": "code",
   "execution_count": null,
   "metadata": {},
   "outputs": [],
   "source": []
  },
  {
   "cell_type": "code",
   "execution_count": null,
   "metadata": {},
   "outputs": [],
   "source": []
  }
 ],
 "metadata": {
  "kernelspec": {
   "display_name": "Python 3 (ipykernel)",
   "language": "python",
   "name": "python3"
  },
  "language_info": {
   "codemirror_mode": {
    "name": "ipython",
    "version": 3
   },
   "file_extension": ".py",
   "mimetype": "text/x-python",
   "name": "python",
   "nbconvert_exporter": "python",
   "pygments_lexer": "ipython3",
   "version": "3.9.12"
  }
 },
 "nbformat": 4,
 "nbformat_minor": 2
}
